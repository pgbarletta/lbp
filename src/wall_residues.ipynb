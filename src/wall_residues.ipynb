{
 "cells": [
  {
   "cell_type": "code",
   "execution_count": 1,
   "metadata": {},
   "outputs": [
    {
     "data": {
      "text/plain": [
       "\"/home/pbarletta/labo/18/lbp/rtdos_log\""
      ]
     },
     "execution_count": 1,
     "metadata": {},
     "output_type": "execute_result"
    }
   ],
   "source": [
    "using DataFrames, DelimitedFiles, DataStructures\n",
    "using Plots, JUMD, Chemfiles, CSV\n",
    "home = \"/home/pbarletta/labo/18/lbp/run\"\n",
    "rtdos = \"/home/pbarletta/labo/18/lbp/rtdos_log\""
   ]
  },
  {
   "cell_type": "markdown",
   "metadata": {},
   "source": [
    "### Leo los residuos de la pared a lo largo de la trayectoria y me quedo con esos q aparecen al menos un 20% del tiempo"
   ]
  },
  {
   "cell_type": "code",
   "execution_count": 2,
   "metadata": {},
   "outputs": [],
   "source": [
    "# 4UET\n",
    "cutoff = .2\n",
    "nframes = 3000\n",
    "msk = collect(3:4:nframes*4)\n",
    "\n",
    "wall_4uet = readdlm(joinpath(home, \"4uet\", \"cavidad\", \"100\", \"wall_avg_4uet\"));\n",
    "proto_res_4uet = wall_4uet[msk, 3:end]\n",
    "\n",
    "# Contar ocurrencias de c/ residuo\n",
    "conteo_4uet = OrderedDict{Int64, Float64}()\n",
    "for i in proto_res_4uet\n",
    "    if typeof(i) == Int64\n",
    "        conteo_4uet[i] = get(conteo_4uet, i, 0) + 1.\n",
    "    end\n",
    "end\n",
    "\n",
    "# Pasar de conteo a fracción relativa\n",
    "conteo_4uet.vals = conteo_4uet.vals / nframes\n",
    "res_4uet = sort(conteo_4uet.keys[conteo_4uet.vals .> cutoff]);\n",
    "\n",
    "# 4XCP\n",
    "wall_4xcp = readdlm(joinpath(home, \"4xcp\", \"cavidad\", \"100\", \"wall_avg_4xcp\"));\n",
    "proto_res_4xcp = wall_4xcp[msk, 3:end]\n",
    "\n",
    "# Contar ocurrencias de c/ residuo\n",
    "conteo_4xcp = OrderedDict{Int64, Float64}()\n",
    "for i in proto_res_4xcp\n",
    "    if typeof(i) == Int64\n",
    "        conteo_4xcp[i] = get(conteo_4xcp, i, 0) + 1.\n",
    "    end\n",
    "end\n",
    "\n",
    "# Pasar de conteo a fracción relativa\n",
    "conteo_4xcp.vals = conteo_4xcp.vals / nframes\n",
    "res_4xcp = sort(conteo_4xcp.keys[conteo_4xcp.vals .> cutoff]);"
   ]
  },
  {
   "cell_type": "code",
   "execution_count": 24,
   "metadata": {},
   "outputs": [],
   "source": [
    "# 1IFB\n",
    "cutoff = .2\n",
    "nframes = 3000\n",
    "msk = collect(3:4:nframes*4)\n",
    "\n",
    "wall_1ifb = readdlm(joinpath(home, \"1ifb\", \"cavidad\", \"100\", \"wall_avg_1ifb\"));\n",
    "proto_res_1ifb = wall_1ifb[msk, 3:end]\n",
    "\n",
    "# Contar ocurrencias de c/ residuo\n",
    "conteo_1ifb = OrderedDict{Int64, Float64}()\n",
    "for i in proto_res_1ifb\n",
    "    if typeof(i) == Int64\n",
    "        conteo_1ifb[i] = get(conteo_1ifb, i, 0) + 1.\n",
    "    end\n",
    "end\n",
    "\n",
    "# Pasar de conteo a fracción relativa\n",
    "conteo_1ifb.vals = conteo_1ifb.vals / nframes\n",
    "res_1ifb = sort(conteo_1ifb.keys[conteo_1ifb.vals .> cutoff]);\n",
    "\n",
    "# 2IFB\n",
    "wall_2ifb = readdlm(joinpath(home, \"2ifb\", \"cavidad\", \"100\", \"wall_avg_2ifb\"));\n",
    "proto_res_2ifb = wall_2ifb[msk, 3:end]\n",
    "\n",
    "# Contar ocurrencias de c/ residuo\n",
    "conteo_2ifb = OrderedDict{Int64, Float64}()\n",
    "for i in proto_res_2ifb\n",
    "    if typeof(i) == Int64\n",
    "        conteo_2ifb[i] = get(conteo_2ifb, i, 0) + 1.\n",
    "    end\n",
    "end\n",
    "\n",
    "# Pasar de conteo a fracción relativa\n",
    "conteo_2ifb.vals = conteo_2ifb.vals / nframes\n",
    "res_2ifb = sort(conteo_2ifb.keys[conteo_2ifb.vals .> cutoff]);"
   ]
  },
  {
   "cell_type": "code",
   "execution_count": 21,
   "metadata": {},
   "outputs": [],
   "source": [
    "# 1URE\n",
    "cutoff = .2\n",
    "nframes = 3000\n",
    "msk = collect(3:4:nframes*4)\n",
    "\n",
    "wall_1ure = readdlm(joinpath(home, \"1ure\", \"cavidad\", \"100\", \"wall_avg_1ure\"));\n",
    "proto_res_1ure = wall_1ure[msk, 3:end]\n",
    "\n",
    "# Contar ocurrencias de c/ residuo\n",
    "conteo_1ure = OrderedDict{Int64, Float64}()\n",
    "for i in proto_res_1ure\n",
    "    if typeof(i) == Int64\n",
    "        conteo_1ure[i] = get(conteo_1ure, i, 0) + 1.\n",
    "    end\n",
    "end\n",
    "\n",
    "# Pasar de conteo a fracción relativa\n",
    "conteo_1ure.vals = conteo_1ure.vals / nframes\n",
    "res_1ure = sort(conteo_1ure.keys[conteo_1ure.vals .> cutoff]);\n",
    "\n",
    "\n",
    "# 2W9Y\n",
    "wall_2w9y = readdlm(joinpath(home, \"2w9y\", \"cavidad\", \"100\", \"wall_top_2w9y\"));\n",
    "proto_res_2w9y = wall_2w9y[msk, 3:end]\n",
    "\n",
    "# Contar ocurrencias de c/ residuo\n",
    "conteo_2w9y = OrderedDict{Int64, Float64}()\n",
    "for i in proto_res_2w9y\n",
    "    if typeof(i) == Int64\n",
    "        conteo_2w9y[i] = get(conteo_2w9y, i, 0) + 1.\n",
    "    end\n",
    "end\n",
    "\n",
    "# Pasar de conteo a fracción relativa\n",
    "conteo_2w9y.vals = conteo_2w9y.vals / nframes\n",
    "res_2w9y = sort(conteo_2w9y.keys[conteo_2w9y.vals .> cutoff]);"
   ]
  },
  {
   "cell_type": "markdown",
   "metadata": {},
   "source": [
    "### Leo los nombres de los residuos"
   ]
  },
  {
   "cell_type": "code",
   "execution_count": 6,
   "metadata": {},
   "outputs": [
    {
     "name": "stderr",
     "output_type": "stream",
     "text": [
      "┌ Warning: Unknown PDB record: TER\n",
      "└ @ Chemfiles /home/pbarletta/.julia/packages/Chemfiles/P8wKX/src/misc.jl:30\n"
     ]
    },
    {
     "data": {
      "text/plain": [
       "Topology(Chemfiles.CxxPointer{Chemfiles.lib.CHFL_TOPOLOGY}(Ptr{Chemfiles.lib.CHFL_TOPOLOGY} @0x000000000b2303d0, false))"
      ]
     },
     "execution_count": 6,
     "metadata": {},
     "output_type": "execute_result"
    }
   ],
   "source": [
    "# 4UET\n",
    "in_trj_4uet = Trajectory(joinpath(home, \"4uet\", \"cavidad\", \"100\", \"avg_4uet.pdb\"))\n",
    "in_frm_4uet = read(in_trj_4uet)\n",
    "in_top_4uet = Topology(in_frm_4uet)\n",
    "\n",
    "# 4XCP\n",
    "in_trj_4xcp = Trajectory(joinpath(home, \"4xcp\", \"cavidad\", \"100\", \"avg_4xcp.pdb\"))\n",
    "in_frm_4xcp = read(in_trj_4xcp)\n",
    "in_top_4xcp = Topology(in_frm_4xcp)\n",
    "\n",
    "# 1IFB\n",
    "in_trj_1ifb = Trajectory(joinpath(home, \"1ifb\", \"cavidad\", \"100\", \"avg_1ifb.pdb\"))\n",
    "in_frm_1ifb = read(in_trj_1ifb)\n",
    "in_top_1ifb = Topology(in_frm_1ifb)\n",
    "\n",
    "# 2IFB\n",
    "in_trj_2ifb = Trajectory(joinpath(home, \"2ifb\", \"cavidad\", \"100\", \"avg_2ifb.pdb\"))\n",
    "in_frm_2ifb = read(in_trj_2ifb)\n",
    "in_top_2ifb = Topology(in_frm_2ifb)\n",
    "\n",
    "# 1URE\n",
    "in_trj_1ure = Trajectory(joinpath(home, \"1ure\", \"cavidad\", \"100\", \"avg_1ure.pdb\"))\n",
    "in_frm_1ure = read(in_trj_1ure)\n",
    "in_top_1ure = Topology(in_frm_1ure)\n",
    "\n",
    "# 2W9y\n",
    "in_trj_2w9y = Trajectory(joinpath(home, \"2w9y\", \"cavidad\", \"100\", \"top_2w9y.pdb\"))\n",
    "in_frm_2w9y = read(in_trj_2w9y)\n",
    "in_top_2w9y = Topology(in_frm_2w9y)"
   ]
  },
  {
   "cell_type": "markdown",
   "metadata": {},
   "source": [
    "### Ahora tengo q correr la numeración de los residuos p/ ajustarla a la numeración q se usa en la bibliografía"
   ]
  },
  {
   "cell_type": "code",
   "execution_count": 43,
   "metadata": {},
   "outputs": [
    {
     "data": {
      "text/plain": [
       "\"/home/pbarletta/labo/18/lbp/rtdos_log/residuos_pared_4uet\""
      ]
     },
     "execution_count": 43,
     "metadata": {},
     "output_type": "execute_result"
    }
   ],
   "source": [
    "CSV.write(joinpath(rtdos, \"residuos_pared_4uet\"), \n",
    "    DataFrame(hcat(map(x -> name(Residue(in_top_4uet, x-1)), res_4uet), res_4uet .+ 9)),\n",
    "    delim = '\\t')"
   ]
  },
  {
   "cell_type": "code",
   "execution_count": 44,
   "metadata": {},
   "outputs": [
    {
     "data": {
      "text/plain": [
       "\"/home/pbarletta/labo/18/lbp/rtdos_log/residuos_pared_4xcp\""
      ]
     },
     "execution_count": 44,
     "metadata": {},
     "output_type": "execute_result"
    }
   ],
   "source": [
    "CSV.write(joinpath(rtdos, \"residuos_pared_4xcp\"), \n",
    "    DataFrame(hcat(map(x -> name(Residue(in_top_4xcp, x-1)), res_4xcp), res_4xcp .+ 9)),\n",
    "    delim = '\\t')"
   ]
  },
  {
   "cell_type": "code",
   "execution_count": 45,
   "metadata": {},
   "outputs": [
    {
     "data": {
      "text/plain": [
       "\"/home/pbarletta/labo/18/lbp/rtdos_log/residuos_pared_1ifb\""
      ]
     },
     "execution_count": 45,
     "metadata": {},
     "output_type": "execute_result"
    }
   ],
   "source": [
    "CSV.write(joinpath(rtdos, \"residuos_pared_1ifb\"), \n",
    "    DataFrame(hcat(map(x -> name(Residue(in_top_1ifb, x-1)), res_1ifb), res_1ifb .+ 6)),\n",
    "    delim = '\\t')"
   ]
  },
  {
   "cell_type": "code",
   "execution_count": 46,
   "metadata": {},
   "outputs": [
    {
     "data": {
      "text/plain": [
       "\"/home/pbarletta/labo/18/lbp/rtdos_log/residuos_pared_2ifb\""
      ]
     },
     "execution_count": 46,
     "metadata": {},
     "output_type": "execute_result"
    }
   ],
   "source": [
    "CSV.write(joinpath(rtdos, \"residuos_pared_2ifb\"), \n",
    "    DataFrame(hcat(map(x -> name(Residue(in_top_2ifb, x-1)), res_2ifb), res_2ifb .+ 6)),\n",
    "    delim = '\\t')"
   ]
  },
  {
   "cell_type": "code",
   "execution_count": 47,
   "metadata": {},
   "outputs": [
    {
     "data": {
      "text/plain": [
       "\"/home/pbarletta/labo/18/lbp/rtdos_log/residuos_pared_1ure\""
      ]
     },
     "execution_count": 47,
     "metadata": {},
     "output_type": "execute_result"
    }
   ],
   "source": [
    "CSV.write(joinpath(rtdos, \"residuos_pared_1ure\"), \n",
    "    DataFrame(hcat(map(x -> name(Residue(in_top_1ure, x-1)), res_1ure), res_1ure .+ 6)),\n",
    "    delim = '\\t')"
   ]
  },
  {
   "cell_type": "code",
   "execution_count": 48,
   "metadata": {},
   "outputs": [
    {
     "data": {
      "text/plain": [
       "\"/home/pbarletta/labo/18/lbp/rtdos_log/residuos_pared_2w9y\""
      ]
     },
     "execution_count": 48,
     "metadata": {},
     "output_type": "execute_result"
    }
   ],
   "source": [
    "CSV.write(joinpath(rtdos, \"residuos_pared_2w9y\"), \n",
    "    DataFrame(hcat(map(x -> name(Residue(in_top_2w9y, x-1)), res_2w9y), res_2w9y .+ 6)),\n",
    "    delim = '\\t')"
   ]
  }
 ],
 "metadata": {
  "kernelspec": {
   "display_name": "Julia 1.1.0",
   "language": "julia",
   "name": "julia-1.1"
  },
  "language_info": {
   "file_extension": ".jl",
   "mimetype": "application/julia",
   "name": "julia",
   "version": "1.1.0"
  }
 },
 "nbformat": 4,
 "nbformat_minor": 2
}
